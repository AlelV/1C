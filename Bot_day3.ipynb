{
  "nbformat": 4,
  "nbformat_minor": 0,
  "metadata": {
    "colab": {
      "name": "Копия блокнота \"Bot_day3.ipynb\"",
      "provenance": [],
      "collapsed_sections": [],
      "include_colab_link": true
    },
    "kernelspec": {
      "name": "python3",
      "display_name": "Python 3"
    }
  },
  "cells": [
    {
      "cell_type": "markdown",
      "metadata": {
        "id": "view-in-github",
        "colab_type": "text"
      },
      "source": [
        "<a href=\"https://colab.research.google.com/github/AlelV/1C/blob/master/Bot_day3.ipynb\" target=\"_parent\"><img src=\"https://colab.research.google.com/assets/colab-badge.svg\" alt=\"Open In Colab\"/></a>"
      ]
    },
    {
      "cell_type": "code",
      "metadata": {
        "id": "6iHLTASlTmPm",
        "colab_type": "code",
        "colab": {}
      },
      "source": [
        "from google.colab import drive\n",
        "drive.mount('/content/drive')"
      ],
      "execution_count": null,
      "outputs": []
    },
    {
      "cell_type": "code",
      "metadata": {
        "id": "Vxb5H8nl7CEd",
        "colab_type": "code",
        "colab": {}
      },
      "source": [
        "with open('/content/drive/My Drive/dialogues.txt') as f:\n",
        "  content = f.read()\n",
        "  print(len(content))\n",
        "  blocs= content.split('\\n\\n')\n",
        "  print(len(blocs))\n"
      ],
      "execution_count": null,
      "outputs": []
    },
    {
      "cell_type": "code",
      "metadata": {
        "id": "QeU9yA6zh0pV",
        "colab_type": "code",
        "colab": {}
      },
      "source": [
        "dataset = []\n",
        "\n",
        "for block in blocs:\n",
        " replicas = block.split('\\n')[:2]\n",
        " if len(replicas) == 2:\n",
        "    question = clear_text(replicas[0][2:])\n",
        "    answer = clear_text(replicas[1][2:]) \n",
        "    if question and answer: \n",
        "      dataset.append([question,answer])\n"
      ],
      "execution_count": null,
      "outputs": []
    },
    {
      "cell_type": "code",
      "metadata": {
        "id": "CTZsklCdFzpK",
        "colab_type": "code",
        "colab": {}
      },
      "source": [
        "def clear_text(text):\n",
        "  text=text.lower()\n",
        "  alph='йцукенгшщзхъэждлорпавыфячсмитьбю0123456789-qwertyuiopasdfghjklzxcvbnm '\n",
        "  result = ''\n",
        "  for c in text:\n",
        "    if c in alph:\n",
        "      result+=c\n",
        "  return result\n",
        "\n"
      ],
      "execution_count": null,
      "outputs": []
    },
    {
      "cell_type": "code",
      "metadata": {
        "id": "TyxZaVH5lxY_",
        "colab_type": "code",
        "colab": {}
      },
      "source": [
        ""
      ],
      "execution_count": null,
      "outputs": []
    },
    {
      "cell_type": "markdown",
      "metadata": {
        "id": "vokSLaDUTZS5",
        "colab_type": "text"
      },
      "source": [
        "# Новый раздел"
      ]
    }
  ]
}